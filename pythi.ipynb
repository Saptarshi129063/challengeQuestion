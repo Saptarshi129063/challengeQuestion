{
  "nbformat": 4,
  "nbformat_minor": 0,
  "metadata": {
    "colab": {
      "provenance": [],
      "authorship_tag": "ABX9TyOH8aONLXi0jQgjA5SFZCIm",
      "include_colab_link": true
    },
    "kernelspec": {
      "name": "python3",
      "display_name": "Python 3"
    },
    "language_info": {
      "name": "python"
    }
  },
  "cells": [
    {
      "cell_type": "markdown",
      "metadata": {
        "id": "view-in-github",
        "colab_type": "text"
      },
      "source": [
        "<a href=\"https://colab.research.google.com/github/Saptarshi129063/challengeQuestion/blob/main/pythi.ipynb\" target=\"_parent\"><img src=\"https://colab.research.google.com/assets/colab-badge.svg\" alt=\"Open In Colab\"/></a>"
      ]
    },
    {
      "cell_type": "code",
      "execution_count": null,
      "metadata": {
        "id": "Y8Elao4gt3tL"
      },
      "outputs": [],
      "source": [
        "L= [\"Ram\",\"1\",\"Shyam\",\"Aman\",\"3\"]\n",
        "L.sort()\n",
        "print(L)"
      ]
    }
  ]
}